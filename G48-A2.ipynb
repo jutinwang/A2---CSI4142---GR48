{
 "cells": [
  {
   "cell_type": "markdown",
   "metadata": {},
   "source": [
    "# CSI4142 - Group 48 - Assignment 2\n",
    "\n",
    "---\n",
    "\n",
    "## Introduction\n",
    "This report details data cleaning and imputation on 2 different datasets.\n",
    "\n",
    "By presenting these findings through a combination of visualizations and actionable insights, this report aims to provide a comprehensive demonstration of data cleaning practices.\n",
    "\n",
    "The target audience for this report includes ____.\n",
    "\n",
    "\n",
    "#### Group 48 Members\n",
    "- Ali Bhangu - 300234254\n",
    "- Justin Wang - 300234186"
   ]
  },
  {
   "cell_type": "code",
   "execution_count": 1,
   "metadata": {},
   "outputs": [],
   "source": [
    "# Importing the required Python libraries\n",
    "import numpy as npy\n",
    "import pandas as pd\n",
    "import seaborn as sns\n",
    "import matplotlib as mpl\n",
    "import matplotlib.pyplot as plt\n",
    "import os as os"
   ]
  },
  {
   "cell_type": "code",
   "execution_count": 4,
   "metadata": {},
   "outputs": [
    {
     "name": "stdout",
     "output_type": "stream",
     "text": [
      "  % Total    % Received % Xferd  Average Speed   Time    Time     Time  Current\n",
      "                                 Dload  Upload   Total   Spent    Left  Speed\n",
      "  0     0    0     0    0     0      0      0 --:--:-- --:--:-- --:--:--     0\n",
      "100  110k  100  110k    0     0   269k      0 --:--:-- --:--:-- --:--:--  269k\n"
     ]
    },
    {
     "ename": "FileNotFoundError",
     "evalue": "Dataset not found: dirty_cafe_sales.csv. Ensure the file is downloaded and extracted.",
     "output_type": "error",
     "traceback": [
      "\u001b[0;31m---------------------------------------------------------------------------\u001b[0m",
      "\u001b[0;31mFileNotFoundError\u001b[0m                         Traceback (most recent call last)",
      "Cell \u001b[0;32mIn[4], line 12\u001b[0m\n\u001b[1;32m     10\u001b[0m \u001b[38;5;66;03m# Check if the CSV file exists, otherwise raise an error\u001b[39;00m\n\u001b[1;32m     11\u001b[0m \u001b[38;5;28;01mif\u001b[39;00m \u001b[38;5;129;01mnot\u001b[39;00m os\u001b[38;5;241m.\u001b[39mpath\u001b[38;5;241m.\u001b[39mexists(csv_path):\n\u001b[0;32m---> 12\u001b[0m     \u001b[38;5;28;01mraise\u001b[39;00m \u001b[38;5;167;01mFileNotFoundError\u001b[39;00m(\u001b[38;5;124mf\u001b[39m\u001b[38;5;124m\"\u001b[39m\u001b[38;5;124mDataset not found: \u001b[39m\u001b[38;5;132;01m{\u001b[39;00mcsv_path\u001b[38;5;132;01m}\u001b[39;00m\u001b[38;5;124m. Ensure the file is downloaded and extracted.\u001b[39m\u001b[38;5;124m\"\u001b[39m)\n\u001b[1;32m     14\u001b[0m \u001b[38;5;66;03m# Loading in the dataset\u001b[39;00m\n\u001b[1;32m     15\u001b[0m cafeSet \u001b[38;5;241m=\u001b[39m pd\u001b[38;5;241m.\u001b[39mread_csv(csv_path)\n",
      "\u001b[0;31mFileNotFoundError\u001b[0m: Dataset not found: dirty_cafe_sales.csv. Ensure the file is downloaded and extracted."
     ]
    }
   ],
   "source": [
    "# Checking to see if the csv exists, if so - delete and re-extract\n",
    "csv_path = \"dirty_cafe_sales.csv\"\n",
    "if os.path.exists(csv_path):\n",
    "    print(f\"Existing {csv_path} found. Deleting and re-extracting...\")\n",
    "    os.remove(csv_path)\n",
    "\n",
    "#!/bin/bash\n",
    "!curl -L -o ~/Downloads/cafe-sales-dirty-data-for-cleaning-training.zip\\\n",
    "  https://www.kaggle.com/api/v1/datasets/download/ahmedmohamed2003/cafe-sales-dirty-data-for-cleaning-training\n",
    "  \n",
    "# Check if the CSV file exists, otherwise raise an error\n",
    "if not os.path.exists(csv_path):\n",
    "    raise FileNotFoundError(f\"Dataset not found: {csv_path}. Ensure the file is downloaded and extracted.\")\n",
    "\n",
    "# Loading in the dataset\n",
    "cafeSet = pd.read_csv(csv_path)\n",
    "cafeSet.head()"
   ]
  }
 ],
 "metadata": {
  "kernelspec": {
   "display_name": "Python 3",
   "language": "python",
   "name": "python3"
  },
  "language_info": {
   "codemirror_mode": {
    "name": "ipython",
    "version": 3
   },
   "file_extension": ".py",
   "mimetype": "text/x-python",
   "name": "python",
   "nbconvert_exporter": "python",
   "pygments_lexer": "ipython3",
   "version": "3.9.6"
  }
 },
 "nbformat": 4,
 "nbformat_minor": 2
}
