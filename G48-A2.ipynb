{
 "cells": [
  {
   "cell_type": "markdown",
   "metadata": {},
   "source": [
    "# CSI4142 - Group 48 - Assignment 2\n",
    "\n",
    "---\n",
    "\n",
    "## Introduction\n",
    "This report details data cleaning and imputation on 2 different datasets.\n",
    "\n",
    "By presenting these findings through a combination of visualizations and actionable insights, this report aims to provide a comprehensive demonstration of data cleaning practices.\n",
    "\n",
    "The target audience for this report includes ____.\n",
    "\n",
    "\n",
    "#### Group 48 Members\n",
    "- Ali Bhangu - 300234254\n",
    "- Justin Wang - 300234186"
   ]
  }
 ],
 "metadata": {
  "language_info": {
   "name": "python"
  }
 },
 "nbformat": 4,
 "nbformat_minor": 2
}
